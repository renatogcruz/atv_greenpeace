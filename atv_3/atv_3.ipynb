{
  "nbformat": 4,
  "nbformat_minor": 0,
  "metadata": {
    "colab": {
      "name": "atv_3.ipynb",
      "provenance": [],
      "collapsed_sections": []
    },
    "kernelspec": {
      "name": "python3",
      "display_name": "Python 3"
    },
    "language_info": {
      "name": "python"
    }
  },
  "cells": [
    {
      "cell_type": "markdown",
      "source": [
        "### Exercício 3\n",
        "\n",
        "O Greenpeace Brasil utiliza um *data warehouse* baseado em Redshift para reunir nossos bancos de dados. Frequentemente, precisamos revisar e alterar as permissões dos datasets existentes. Partindo da documentação do [Redshift](https://docs.aws.amazon.com/pt_br/redshift/latest/dg/c_SQL_commands.html), descreva qual o código em SQL seria utilizado para esses diferentes cenários:\n",
        "\n",
        "1. Cada analista da equipe de Inteligência de Dados tem um perfil próprio e temos uma conta genérica para conseguir lidar com bases de dados coletivas. No cenário em que o usuário `gp_user` gostaria de ter acesso para a tabela `press_data`, qual seria o código para disponibilizá-la?\n",
        "2. Em algumas vezes, mesmo após dar permissão uma vez, a tabela é reescrita com o parâmetro `drop` e perde as permissões. Qual o código que deve ser feito para que a tabela sempre herde os privilégios de forma padrão?\n",
        "3. Em um cenário que alguém não é mais responsável por uma tabela específica, qual o código para mudar a pessoa proprietária dessa tabela?"
      ],
      "metadata": {
        "id": "o19EGI0p5Sk7"
      }
    },
    {
      "cell_type": "markdown",
      "source": [
        "1 - Cada analista da equipe de Inteligência de Dados tem um perfil próprio e temos uma conta genérica para conseguir lidar com bases de dados coletivas. No cenário em que o usuário `gp_user` gostaria de ter acesso para a tabela `press_data`, qual seria o código para disponibilizá-la?\n",
        "\n",
        "R: `GRANT SELECT ON db_name.press_data TO 'gp_user'@'localhost' IDENTIFIED BY 'gp_user123';`\n",
        "\n",
        "Na sintaxe acima, a instrução concede o privilégio SELECT para a tabela `press_data` no banco de dados `db_name` ao usuário chamado `gp_user`, que deve se conectar a partir do host local e usar uma senha `gp_user123`.\n",
        "\n",
        "Cláusulas da declaração:\n",
        "1. Privilégios a serem concedidos\n",
        "2. Nível de privilégio:\n",
        "  Tabela: [db_name].[table_name]  \n",
        "3. Conta à qual você está concedendo o privilégio.\n",
        "4. Uma senha opcional."
      ],
      "metadata": {
        "id": "MXIZChbaoWjx"
      }
    },
    {
      "cell_type": "markdown",
      "source": [
        "2 - Em algumas vezes, mesmo após dar permissão uma vez, a tabela é reescrita com o parâmetro drop e perde as permissões. Qual o código que deve ser feito para que a tabela sempre herde os privilégios de forma padrão?\n",
        "\n",
        "R: `ALTER DEFAULT PRIVILEGES in schema sales GRANT INSERT ON tables to group user_admin;`\n",
        "\n",
        "O exemplo a seguir concede o privilégio INSERT ao grupo de usuários `user_admin` para todas as novas tabelas e exibições que você criar no esquema sales."
      ],
      "metadata": {
        "id": "yy_Ne45Ap9iR"
      }
    },
    {
      "cell_type": "markdown",
      "source": [
        "3 - Em um cenário que alguém não é mais responsável por uma tabela específica, qual o código para mudar a pessoa proprietária dessa tabela?\n",
        "\n",
        "R: `REVOKE USAGE ON table table_name from group user;`\n",
        "\n",
        "A sintaxe acima revoga os privilégios USAGE em uma tabela `table_name` do do usuário `user`. Essa sintaxe impede que o usuário acesse dados na tabela setada."
      ],
      "metadata": {
        "id": "z-az7PRvs9n4"
      }
    }
  ]
}